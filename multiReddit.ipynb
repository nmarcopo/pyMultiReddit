{
 "cells": [
  {
   "cell_type": "code",
   "execution_count": 156,
   "metadata": {
    "collapsed": true
   },
   "outputs": [],
   "source": [
    "# Imports\n",
    "import requests\n",
    "import os\n",
    "\n",
    "from IPython.display import HTML\n",
    "from ipywidgets import interact\n",
    "\n",
    "# Functions\n",
    "def multireddit(subreddits, limit=5, orderby='score'):\n",
    "    ''' Displays an HTML listing of the top `limit` articles from the\n",
    "    various `subreddits` specified by the user.  These articles will be\n",
    "    sorted by the field specified by `orderby`\n",
    "\n",
    "      - `subreddits` is a comma-separated list of subreddits (ie.\n",
    "        `linux,linuxmasterrace`)\n",
    "\n",
    "      - `orderby` is any field in the Reddit JSON data for a particular\n",
    "        article (ie. `score`, `title`, `created_utc`, etc.)\n",
    "    '''\n",
    "\n",
    "    # Process function arguments\n",
    "    if not subreddits:\n",
    "        return\n",
    "    \n",
    "    subList = subreddits.split(',')\n",
    "    \n",
    "    # TODO: Fetch subreddit data\n",
    "    articles = []\n",
    "    for sub in subList:\n",
    "        headers  = {'user-agent': 'reddit-{}'.format(os.environ['USER'])}\n",
    "        # tell user if the subreddit they typed doesn't exist\n",
    "        try:\n",
    "            # gets past reddit anti-bot stuff\n",
    "            while True:\n",
    "                response = requests.get('https://www.reddit.com/r/{}/.json'.format(sub), headers=headers)\n",
    "                data = response.json()\n",
    "                articles += data['data']['children']\n",
    "                if response.status_code == 200:\n",
    "                    break\n",
    "        except:\n",
    "            if(sub != \"\"):\n",
    "                print(\"Subreddit {} does not exist, cannot display\".format(sub))\n",
    "                return\n",
    "    \n",
    "    \n",
    "    # TODO: Sort and limit data, and construct HTML results\n",
    "    html = '<table><tbody>'\n",
    "    \n",
    "    # if an invalid subreddit somehow has a url, tell the user it is invalid\n",
    "    try:\n",
    "        # Handles sorting by title correctly\n",
    "        if orderby == 'title':\n",
    "            for index, article in enumerate(sorted(articles, key=lambda a: a['data'][orderby].lower())[:limit]):\n",
    "                html += '''\n",
    "                <tr>\n",
    "                    <td>{}</td>\n",
    "                    <td style=\"text-align: left\"><a href=\"{}\" target=\"_blank\">{}</td>\n",
    "                    <td>{}</td>\n",
    "                    <td><a href=\"https://reddit.com{}\" target=\"_blank\">Comments</td>\n",
    "                </tr>\n",
    "                '''.format(index+1, article['data']['url'], article['data']['title'], article['data']['score'], article['data']['permalink'])\n",
    "        else:\n",
    "            for index, article in enumerate(sorted(articles, key=lambda a: a['data'][orderby])[:limit]):\n",
    "                html += '''\n",
    "                <tr>\n",
    "                    <td>{}</td>\n",
    "                    <td style=\"text-align: left\"><a href=\"{}\" target=\"_blank\">{}</td>\n",
    "                    <td>{}</td>\n",
    "                    <td><a href=\"https://reddit.com{}\" target=\"_blank\">Comments</td>\n",
    "                </tr>\n",
    "                '''.format(index+1, article['data']['url'], article['data']['title'], article['data']['score'], article['data']['permalink'])\n",
    "    except:\n",
    "        print(\"One of your subreddits is invalid, cannot display.\")\n",
    "    \n",
    "    html += '</tbody></table>'\n",
    "\n",
    "    display(HTML(html))"
   ]
  },
  {
   "cell_type": "code",
   "execution_count": 157,
   "metadata": {},
   "outputs": [
    {
     "data": {
      "application/vnd.jupyter.widget-view+json": {
       "model_id": "3c1ab04b7f8346fb890e093264575eca",
       "version_major": 2,
       "version_minor": 0
      },
      "text/plain": [
       "A Jupyter Widget"
      ]
     },
     "metadata": {},
     "output_type": "display_data"
    },
    {
     "data": {
      "text/plain": [
       "<function __main__.multireddit>"
      ]
     },
     "execution_count": 157,
     "metadata": {},
     "output_type": "execute_result"
    }
   ],
   "source": [
    "ORDERBY = {\n",
    "    'Score': 'score',\n",
    "    'Creation Time': 'created_utc',\n",
    "    'Title': 'title'\n",
    "}\n",
    "\n",
    "interact(multireddit, subreddits='', limit=(1, 20), orderby=ORDERBY)"
   ]
  },
  {
   "cell_type": "markdown",
   "metadata": {},
   "source": [
    "# Questions"
   ]
  },
  {
   "cell_type": "markdown",
   "metadata": {},
   "source": [
    "1. I parsed the subreddit argument by using the split function delimited by a comma. This converted the string into a list of subreddits that was easily handle using a for loop. \n",
    "2. I fetched the JSON data by using the subList with a loop. In the loop, the subreddit was placed into an already formatted URL using the .format() function and this URL was accessed with the requests.get() function, which returned JSON data. I used a for loop to iterate over each entry in the JSON. I then concatenated the data for each new subreddit.\n",
    "3. I constructed the formatted HTML by using table and tbody elements, then using tr for each row. I put each tr in a for loop, and then accessed each link's data using `article['data']['url']`,  `article['data']['title']`, `article['data']['score']`, and  `article['data']['permalink']`. I used the .format() function to add this data into my formatted list. I then used the display() function to display the resulting HTML code, which was processed by my web browser."
   ]
  }
 ],
 "metadata": {
  "kernelspec": {
   "display_name": "Python 3",
   "language": "python",
   "name": "python3"
  },
  "language_info": {
   "codemirror_mode": {
    "name": "ipython",
    "version": 3
   },
   "file_extension": ".py",
   "mimetype": "text/x-python",
   "name": "python",
   "nbconvert_exporter": "python",
   "pygments_lexer": "ipython3",
   "version": "3.6.3"
  }
 },
 "nbformat": 4,
 "nbformat_minor": 2
}
